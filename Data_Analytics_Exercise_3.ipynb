{
  "nbformat": 4,
  "nbformat_minor": 0,
  "metadata": {
    "colab": {
      "provenance": []
    },
    "kernelspec": {
      "name": "python3",
      "display_name": "Python 3"
    },
    "language_info": {
      "name": "python"
    }
  },
  "cells": [
    {
      "cell_type": "code",
      "execution_count": 47,
      "metadata": {
        "colab": {
          "base_uri": "https://localhost:8080/"
        },
        "id": "-9c0iTq9qe0V",
        "outputId": "9726b22a-2439-40ae-9a1d-55d97a5633ed"
      },
      "outputs": [
        {
          "output_type": "stream",
          "name": "stdout",
          "text": [
            "Iris Dataset Overview:\n",
            "   sepal length (cm)  sepal width (cm)  petal length (cm)  petal width (cm)  \\\n",
            "0                5.1               3.5                1.4               0.2   \n",
            "1                4.9               3.0                1.4               0.2   \n",
            "2                4.7               3.2                1.3               0.2   \n",
            "3                4.6               3.1                1.5               0.2   \n",
            "4                5.0               3.6                1.4               0.2   \n",
            "\n",
            "   target  \n",
            "0       0  \n",
            "1       0  \n",
            "2       0  \n",
            "3       0  \n",
            "4       0  \n"
          ]
        }
      ],
      "source": [
        "import pandas as pd\n",
        "import numpy as np\n",
        "import matplotlib.pyplot as plt\n",
        "from sklearn import datasets\n",
        "iris = datasets.load_iris()\n",
        "iris_df = pd.DataFrame(data=iris.data, columns=iris.feature_names)\n",
        "iris_df['target'] = iris.target\n",
        "print(\"Iris Dataset Overview:\")\n",
        "print(iris_df.head())"
      ]
    },
    {
      "cell_type": "markdown",
      "source": [
        "Data Loading and Preparation :\n",
        "\n",
        "Loads the Iris dataset from sklearn and converts it into a Pandas DataFrame for easier manipulation. Contains species labels (Setosa, Versicolor, Virginica) in numeric values."
      ],
      "metadata": {
        "id": "LGkVTcKvV3GY"
      }
    },
    {
      "cell_type": "code",
      "source": [
        "df.columns = ['sepal_length', 'sepal_width', 'petal_length', 'petal_width', 'species']\n",
        "\n",
        "print(df.head())\n",
        "\n",
        "setosa_petal_length = df[df['species'] == 'setosa']['petal_length']\n",
        "virginica_petal_length = df[df['species'] == 'virginica']['petal_length']\n",
        "\n",
        "t_stat, p_value = ttest_ind(setosa_petal_length, virginica_petal_length)\n",
        "\n",
        "print(\"\\nT-Test Results (Setosa vs. Virginica - Petal Length):\")\n",
        "print(\"H0: The mean petal lengths of Setosa and Virginica are equal.\")\n",
        "print(f\"T-statistic: {t_stat}, P-value: {p_value}\")"
      ],
      "metadata": {
        "colab": {
          "base_uri": "https://localhost:8080/"
        },
        "id": "3JKDIYQftOMd",
        "outputId": "a7fefcdb-a0c1-4ce9-94cd-9a75e017faee"
      },
      "execution_count": 48,
      "outputs": [
        {
          "output_type": "stream",
          "name": "stdout",
          "text": [
            "   sepal_length  sepal_width  petal_length  petal_width species\n",
            "0           5.1          3.5           1.4          0.2  setosa\n",
            "1           4.9          3.0           1.4          0.2  setosa\n",
            "2           4.7          3.2           1.3          0.2  setosa\n",
            "3           4.6          3.1           1.5          0.2  setosa\n",
            "4           5.0          3.6           1.4          0.2  setosa\n",
            "\n",
            "T-Test Results (Setosa vs. Virginica - Petal Length):\n",
            "H0: The mean petal lengths of Setosa and Virginica are equal.\n",
            "T-statistic: -49.98618625709594, P-value: 1.5048006992427275e-71\n"
          ]
        }
      ]
    },
    {
      "cell_type": "markdown",
      "source": [
        "Renames the columns for better clarity.\n",
        "1. T-Test :\n",
        "\n",
        "1) Compare Setosa and Virginica mean petal lengths.\n",
        "\n",
        "2) The Null Hypothesis (H0) is the mean of the petal length of the Setosa and Virginica is equal.\n",
        "\n",
        "3) Extract petal lengths of setosa and virginica and then\n",
        "Perform an independent T-test.\n",
        "\n",
        "The results are :\n",
        "\n",
        "t_stat : It measures the difference in means with respect to their variability.\n",
        "\n",
        "p_value: It tells if the result is statistically significant.\n"
      ],
      "metadata": {
        "id": "35R1ztIcSBgw"
      }
    },
    {
      "cell_type": "code",
      "source": [
        "versicolor_sepal_length = df[df['species'] == 'versicolor']['sepal_length']\n",
        "population_std = np.std(versicolor_sepal_length)\n",
        "\n",
        "z_stat = (versicolor_sepal_length.mean() - 5.0) / (population_std / np.sqrt(len(versicolor_sepal_length)))\n",
        "print(\"\\nZ-Test Results (Versicolor Sepal Length):\")\n",
        "print(\"H0: The mean sepal length of Versicolor equals 5.0.\")\n",
        "print(f\"Z-statistic: {z_stat}\")"
      ],
      "metadata": {
        "colab": {
          "base_uri": "https://localhost:8080/"
        },
        "id": "SsLMq6fVtmWu",
        "outputId": "586dd138-2615-4623-cb2f-2ee68c5ef323"
      },
      "execution_count": 49,
      "outputs": [
        {
          "output_type": "stream",
          "name": "stdout",
          "text": [
            "\n",
            "Z-Test Results (Versicolor Sepal Length):\n",
            "H0: The mean sepal length of Versicolor equals 5.0.\n",
            "Z-statistic: 12.952514536592439\n"
          ]
        }
      ]
    },
    {
      "cell_type": "markdown",
      "source": [
        "2. Z-Test :\n",
        "\n",
        "1) Test if the mean sepal length of Versicolor equals 5.0.\n",
        "\n",
        "2) The Null Hypothesis (H0) is the mean sepal length of Versicolor equals 5.0.\n",
        "\n",
        "3) Extract Versicolor sepal lengths then Calculate Z-statistic.\n",
        "\n",
        "Z-statistic tests whether the sample mean differs from a known value (5.0 in this case)."
      ],
      "metadata": {
        "id": "vKXEOaKrSxK6"
      }
    },
    {
      "cell_type": "code",
      "source": [
        "setosa_petal_width = df[df['species'] == 'setosa']['petal_width']\n",
        "versicolor_petal_width = df[df['species'] == 'versicolor']['petal_width']\n",
        "virginica_petal_width = df[df['species'] == 'virginica']['petal_width']\n",
        "\n",
        "anova_stat, anova_p_value = f_oneway(setosa_petal_width, versicolor_petal_width, virginica_petal_width)\n",
        "\n",
        "print(\"\\nANOVA Results (Petal Width Across Species):\")\n",
        "print(\"H0: The mean petal widths are equal across all three species.\")\n",
        "print(f\"F-statistic: {anova_stat}, P-value: {anova_p_value}\")"
      ],
      "metadata": {
        "colab": {
          "base_uri": "https://localhost:8080/"
        },
        "id": "aFGkdIQgtszt",
        "outputId": "1f16c9a5-1c23-4b0d-a353-c1d346ddb7ab"
      },
      "execution_count": 50,
      "outputs": [
        {
          "output_type": "stream",
          "name": "stdout",
          "text": [
            "\n",
            "ANOVA Results (Petal Width Across Species):\n",
            "H0: The mean petal widths are equal across all three species.\n",
            "F-statistic: 960.007146801809, P-value: 4.169445839443116e-85\n"
          ]
        }
      ]
    },
    {
      "cell_type": "markdown",
      "source": [
        "3. ANOVA :\n",
        "\n",
        "1) Compare the average petal width across the three species.\n",
        "\n",
        "2) The Null Hypothesis (H0) is The average petal width is the same across all Setosa, Versicolor, and Virginica.\n",
        "\n",
        "First Extract the petal width for the three species then perform ANOVA test.\n",
        "\n",
        "The results are:\n",
        "\n",
        "anova_stat:\n",
        "The F-statistic measures variance between groups compared to variance within groups.\n",
        "\n",
        "p_value:\n",
        "Determines whether differences are statistically significant.\n"
      ],
      "metadata": {
        "id": "8GgUIa4aT3Ph"
      }
    },
    {
      "cell_type": "code",
      "source": [
        "sepal_length = df['sepal_length']\n",
        "petal_length = df['petal_length']\n",
        "\n",
        "correlation, _ = pearsonr(sepal_length, petal_length)\n",
        "print(\"\\nCorrelation between Sepal Length and Petal Length:\")\n",
        "print(f\"Pearson Correlation Coefficient: {correlation}\")\n",
        "\n",
        "X = sm.add_constant(sepal_length)\n",
        "model = sm.OLS(petal_length, X).fit()\n",
        "\n",
        "print(\"\\nRegression Results (Sepal Length vs Petal Length):\")\n",
        "print(model.summary())\n",
        "\n",
        "plt.scatter(sepal_length, petal_length, label='Data Points')\n",
        "plt.plot(sepal_length, model.predict(X), color='red', label='Regression Line')\n",
        "plt.xlabel('Sepal Length')\n",
        "plt.ylabel('Petal Length')\n",
        "plt.title('Regression: Sepal Length vs Petal Length')\n",
        "plt.legend()\n",
        "plt.show()"
      ],
      "metadata": {
        "colab": {
          "base_uri": "https://localhost:8080/",
          "height": 993
        },
        "id": "NIJv5UEYt1E5",
        "outputId": "491bdce8-a62b-4c05-dbd6-345117bac762"
      },
      "execution_count": 51,
      "outputs": [
        {
          "output_type": "stream",
          "name": "stdout",
          "text": [
            "\n",
            "Correlation between Sepal Length and Petal Length:\n",
            "Pearson Correlation Coefficient: 0.8717537758865831\n",
            "\n",
            "Regression Results (Sepal Length vs Petal Length):\n",
            "                            OLS Regression Results                            \n",
            "==============================================================================\n",
            "Dep. Variable:           petal_length   R-squared:                       0.760\n",
            "Model:                            OLS   Adj. R-squared:                  0.758\n",
            "Method:                 Least Squares   F-statistic:                     468.6\n",
            "Date:                Mon, 25 Nov 2024   Prob (F-statistic):           1.04e-47\n",
            "Time:                        22:30:53   Log-Likelihood:                -190.57\n",
            "No. Observations:                 150   AIC:                             385.1\n",
            "Df Residuals:                     148   BIC:                             391.2\n",
            "Df Model:                           1                                         \n",
            "Covariance Type:            nonrobust                                         \n",
            "================================================================================\n",
            "                   coef    std err          t      P>|t|      [0.025      0.975]\n",
            "--------------------------------------------------------------------------------\n",
            "const           -7.1014      0.507    -14.016      0.000      -8.103      -6.100\n",
            "sepal_length     1.8584      0.086     21.646      0.000       1.689       2.028\n",
            "==============================================================================\n",
            "Omnibus:                        0.253   Durbin-Watson:                   1.204\n",
            "Prob(Omnibus):                  0.881   Jarque-Bera (JB):                0.386\n",
            "Skew:                          -0.082   Prob(JB):                        0.824\n",
            "Kurtosis:                       2.812   Cond. No.                         43.4\n",
            "==============================================================================\n",
            "\n",
            "Notes:\n",
            "[1] Standard Errors assume that the covariance matrix of the errors is correctly specified.\n"
          ]
        },
        {
          "output_type": "display_data",
          "data": {
            "text/plain": [
              "<Figure size 640x480 with 1 Axes>"
            ],
            "image/png": "[encoded data removed]"
          },
          "metadata": {}
        }
      ]
    },
    {
      "cell_type": "markdown",
      "source": [
        "4. Correlation and Regression:\n",
        "\n",
        "1) Correlation:\n",
        "\n",
        "Investigate the relationship between sepal length and petal length.\n",
        "Pearson Correlation gives information about linear correlation, ranging from -1 to +1.\n",
        "\n",
        "2) Regression:\n",
        "\n",
        "Use a simple linear regression to predict petal length from sepal length\n",
        "Prepare data for regression then\n",
        "show regression results provides coefficients, significance levels, and fit metrics. Plot regression plots the relationship and fit.\n"
      ],
      "metadata": {
        "id": "ahIRIEeIUNg_"
      }
    }
  ]
}